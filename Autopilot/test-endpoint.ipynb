{
 "cells": [
  {
   "cell_type": "markdown",
   "id": "5dd8d446-77d9-48cd-a736-83715e3ac6d5",
   "metadata": {},
   "source": [
    "### Real-time inference using Data Wrangler+Autopilot Endpoint"
   ]
  },
  {
   "cell_type": "markdown",
   "id": "b236e535-e21e-470f-a5c1-e8eae7e00660",
   "metadata": {},
   "source": [
    "#### Imports"
   ]
  },
  {
   "cell_type": "code",
   "execution_count": 31,
   "id": "05ed2873-8715-48c3-ab46-2b2635a10083",
   "metadata": {},
   "outputs": [],
   "source": [
    "import boto3"
   ]
  },
  {
   "cell_type": "markdown",
   "id": "48012794-32ad-4658-9a98-94072b270e8b",
   "metadata": {},
   "source": [
    "#### Create a low-level client representing Amazon SageMaker Runtime"
   ]
  },
  {
   "cell_type": "code",
   "execution_count": 4,
   "id": "6698005c-adb7-4190-b93a-6b436baff3c5",
   "metadata": {},
   "outputs": [],
   "source": [
    "sagemaker_runtime = boto3.client('sagemaker-runtime', region_name='us-east-1')"
   ]
  },
  {
   "cell_type": "markdown",
   "id": "cee87543-8acf-4495-9381-6aaeccc72da9",
   "metadata": {},
   "source": [
    "#### Essentials "
   ]
  },
  {
   "cell_type": "code",
   "execution_count": 32,
   "id": "f1a0d3b9-204f-4162-96b6-5a9e45767377",
   "metadata": {},
   "outputs": [],
   "source": [
    "endpoint_name = 'loan-default-prediction-ep1'\n",
    "body = 'NULL,3000.0,NULL,60.0,12.69,67.79,b,b5,source verified,2011-12-01,other,17.94,1996-01-01,0.0,15.0,0.0,53.9,38.0,university medical group rent,NULL,1.0,80000.0'"
   ]
  },
  {
   "cell_type": "markdown",
   "id": "05f30937-f029-49c5-8dfd-60688456c61d",
   "metadata": {},
   "source": [
    "#### Invoke the endpoint "
   ]
  },
  {
   "cell_type": "code",
   "execution_count": 28,
   "id": "38077a32-07ba-49fa-b52d-2962920a1447",
   "metadata": {},
   "outputs": [
    {
     "data": {
      "text/plain": [
       "{'ResponseMetadata': {'RequestId': '074c60d0-4480-44de-b77c-28bad2218677',\n",
       "  'HTTPStatusCode': 200,\n",
       "  'HTTPHeaders': {'x-amzn-requestid': '074c60d0-4480-44de-b77c-28bad2218677',\n",
       "   'x-amzn-invoked-production-variant': 'default-variant-name',\n",
       "   'date': 'Mon, 14 Nov 2022 18:17:10 GMT',\n",
       "   'content-type': 'text/csv; charset=utf-8',\n",
       "   'content-length': '103'},\n",
       "  'RetryAttempts': 0},\n",
       " 'ContentType': 'text/csv; charset=utf-8',\n",
       " 'InvokedProductionVariant': 'default-variant-name',\n",
       " 'Body': <botocore.response.StreamingBody at 0x7fe179e3df10>}"
      ]
     },
     "execution_count": 28,
     "metadata": {},
     "output_type": "execute_result"
    }
   ],
   "source": [
    "response = sagemaker_runtime.invoke_endpoint(EndpointName=endpoint_name, \n",
    "                                             ContentType='text/csv', \n",
    "                                             Body=body)\n",
    "response"
   ]
  },
  {
   "cell_type": "markdown",
   "id": "9dd3d53c-3e1f-4c13-be01-dbeeb14c009c",
   "metadata": {},
   "source": [
    "##"
   ]
  },
  {
   "cell_type": "code",
   "execution_count": 29,
   "id": "2083ecbf-5f15-4ea4-bcba-9da126cd7641",
   "metadata": {},
   "outputs": [
    {
     "data": {
      "text/plain": [
       "'fully paid'"
      ]
     },
     "execution_count": 29,
     "metadata": {},
     "output_type": "execute_result"
    }
   ],
   "source": [
    "body = response['Body'].read()\n",
    "prediction = body.decode('utf-8').split(',')[0]\n",
    "prediction"
   ]
  },
  {
   "cell_type": "code",
   "execution_count": null,
   "id": "57a0c3ba-2ed5-45d1-8b8b-44c752dae5b8",
   "metadata": {},
   "outputs": [],
   "source": []
  },
  {
   "cell_type": "code",
   "execution_count": null,
   "id": "b000f592-99ad-4397-a376-19806ded57e4",
   "metadata": {},
   "outputs": [],
   "source": []
  }
 ],
 "metadata": {
  "instance_type": "ml.t3.medium",
  "kernelspec": {
   "display_name": "Python 3 (Data Science)",
   "language": "python",
   "name": "python3__SAGEMAKER_INTERNAL__arn:aws:sagemaker:us-east-1:081325390199:image/datascience-1.0"
  },
  "language_info": {
   "codemirror_mode": {
    "name": "ipython",
    "version": 3
   },
   "file_extension": ".py",
   "mimetype": "text/x-python",
   "name": "python",
   "nbconvert_exporter": "python",
   "pygments_lexer": "ipython3",
   "version": "3.7.10"
  }
 },
 "nbformat": 4,
 "nbformat_minor": 5
}
